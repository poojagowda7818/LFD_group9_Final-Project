{
  "nbformat": 4,
  "nbformat_minor": 0,
  "metadata": {
    "colab": {
      "provenance": [],
      "collapsed_sections": []
    },
    "kernelspec": {
      "name": "python3",
      "display_name": "Python 3"
    },
    "language_info": {
      "name": "python"
    }
  },
  "cells": [
    {
      "cell_type": "markdown",
      "source": [
        "# **`CLASSIC SVM BASELINE MODEL WITH PREPROCESSED TWEET`**"
      ],
      "metadata": {
        "id": "uBI06EEA9_xA"
      }
    },
    {
      "cell_type": "code",
      "execution_count": 24,
      "metadata": {
        "colab": {
          "base_uri": "https://localhost:8080/"
        },
        "id": "ZbqK47gMIgm6",
        "outputId": "b3a90900-570e-4bb9-aeec-d8c99db10e34"
      },
      "outputs": [
        {
          "output_type": "stream",
          "name": "stdout",
          "text": [
            "Drive already mounted at /content/gdrive; to attempt to forcibly remount, call drive.mount(\"/content/gdrive\", force_remount=True).\n"
          ]
        }
      ],
      "source": [
        "from google.colab import drive\n",
        "drive.mount('/content/gdrive')"
      ]
    },
    {
      "cell_type": "code",
      "source": [
        "from sklearn.naive_bayes import MultinomialNB\n",
        "from sklearn.feature_extraction.text import CountVectorizer, TfidfVectorizer\n",
        "from sklearn.feature_extraction import DictVectorizer\n",
        "from sklearn.ensemble import RandomForestClassifier, VotingClassifier\n",
        "from sklearn.neighbors import KNeighborsClassifier\n",
        "from sklearn.tree import DecisionTreeClassifier\n",
        "from sklearn import svm\n",
        "from sklearn.pipeline import Pipeline\n",
        "from sklearn.metrics import accuracy_score, classification_report\n",
        "import pandas as pd\n",
        "import numpy as np\n",
        "import spacy\n",
        "\n",
        "nlp = spacy.load(\"en_core_web_sm\")\n",
        "import scipy.sparse as sp\n",
        "import warnings\n",
        "warnings.filterwarnings(\"ignore\")"
      ],
      "metadata": {
        "id": "9UVG4WW71Q4F"
      },
      "execution_count": 25,
      "outputs": []
    },
    {
      "cell_type": "code",
      "source": [
        "def identity(x):\n",
        "    \"\"\"Dummy function that just returns the input\"\"\"\n",
        "    return x\n",
        "\n",
        "\n",
        "def tokenizer(tweet):\n",
        "    doc = nlp(tweet)\n",
        "    tokens = [word.text for word in doc]\n",
        "    return tokens\n",
        "\n",
        "\n",
        "def get_score(classifier, X_test, Y_test, output_file):\n",
        "    # Given a trained model, predict the label of a new set of data.\n",
        "    Y_pred = classifier.predict(X_test)\n",
        "    if output_file:\n",
        "      if preprocessed:\n",
        "        pd.DataFrame(Y_pred).to_csv('/content/gdrive/MyDrive/Data/outputts_svm.csv')\n",
        "      else:\n",
        "        pd.DataFrame(Y_pred).to_csv('/content/gdrive/MyDrive/Data/outputpossvm.csv')\n",
        "    #calculate the accuracy of the prediction\n",
        "    acc = accuracy_score(Y_test, Y_pred)\n",
        "    print(f\"Final accuracy: {acc}\")\n",
        "    #prints classification report \n",
        "    print(classification_report(Y_test, Y_pred))\n",
        "\n",
        "    return acc\n",
        "\n",
        "\n",
        "def optimize_svm(vec, X_train, Y_train, seed, preprocessed):\n",
        "    if preprocessed:\n",
        "      print(\"SVM classification with preprocessed tweet\")\n",
        "    else:\n",
        "      print(\"SVM classification with POStagged tweet\")\n",
        "\n",
        "    if vec is None:\n",
        "        svm_ = svm.SVC(kernel='linear', C=1.14, random_state=seed)\n",
        "    else:\n",
        "        svm_ = Pipeline([('vec', vec), ('cls', svm.SVC(kernel='linear', C=1.14, random_state=seed))])\n",
        "\n",
        "    svm_.fit(X_train, Y_train)\n",
        "\n",
        "    return svm_\n",
        "\n",
        "\n",
        "def ensemble(vec, X_train, Y_train, seed):\n",
        "    print(\"Ensemble of Naive Bayes, Random Forest and SVM\")\n",
        "\n",
        "    nb = Pipeline([('vec_cn', vec), ('cls', MultinomialNB())])\n",
        "    rf = Pipeline([('vec_tf', vec), ('cls', RandomForestClassifier(criterion='gini', n_estimators=233, max_depth=10,\n",
        "                                                                   max_features=0.064, n_jobs=-1, random_state=seed))])\n",
        "    svm_ = Pipeline([('vec_tf', vec), ('cls', svm.SVC(kernel='linear', C=1.14, random_state=seed))])\n",
        "\n",
        "    estimators = [('nb', nb), ('rf', rf), ('svm', svm_)]\n",
        "\n",
        "    ensemble_classifier = VotingClassifier(estimators, voting='hard')\n",
        "    classifier = ensemble_classifier.fit(X_train, Y_train)\n",
        "\n",
        "    return classifier"
      ],
      "metadata": {
        "id": "okforpVI1W47"
      },
      "execution_count": 46,
      "outputs": []
    },
    {
      "cell_type": "code",
      "source": [
        "if __name__ == \"__main__\":\n",
        "\n",
        "    train = pd.read_csv('/content/gdrive/MyDrive/Data/preprocessed data/processed_train.csv')\n",
        "    val= pd.read_csv('/content/gdrive/MyDrive/Data/preprocessed data/processed_val.csv')\n",
        "    test = pd.read_csv('/content/gdrive/MyDrive/Data/preprocessed data/processed_test.csv')\n",
        "    X_train, Y_train = train['preprocessed'], train['task']\n",
        "    val_set= False\n",
        "    output_file = False\n",
        "    preprocessed = True\n",
        "    if val_set:\n",
        "      X_dev, Y_dev = val['preprocessed'], val['task']\n",
        "    else:\n",
        "      X_test, Y_test = test['preprocessed'],test['task']\n",
        "    #Set to use tfidf or bag-of-words vector \n",
        "    tfidf = True\n",
        "    if tfidf:\n",
        "        vec = TfidfVectorizer(preprocessor=identity, tokenizer=tokenizer)\n",
        "    else:\n",
        "        # Bag of Words vectorizer\n",
        "        vec = CountVectorizer(preprocessor=identity, tokenizer=tokenizer)\n",
        "    #Uncomment the classifier manually to test on ensembled or SVM classifier\n",
        "    # classifier = ensemble(vec, X_train, Y_train,32)\n",
        "    classifier = optimize_svm(vec, X_train, Y_train, 32,preprocessed) #SVM\n",
        "    if val_set:\n",
        "      get_score(classifier, X_dev, Y_dev, output_file)\n",
        "    else:\n",
        "      get_score(classifier, X_test, Y_test, output_file)\n",
        "   "
      ],
      "metadata": {
        "id": "5JnzkA1d1vbh",
        "colab": {
          "base_uri": "https://localhost:8080/"
        },
        "outputId": "ed4b213a-755c-4443-f70d-6324b18d88de"
      },
      "execution_count": 40,
      "outputs": [
        {
          "output_type": "stream",
          "name": "stdout",
          "text": [
            "SVM classification with preprocessed tweet\n",
            "Final accuracy: 0.7345750873108265\n",
            "              precision    recall  f1-score   support\n",
            "\n",
            "         NOT       0.87      0.75      0.80       620\n",
            "         OFF       0.52      0.70      0.59       239\n",
            "\n",
            "    accuracy                           0.73       859\n",
            "   macro avg       0.69      0.72      0.70       859\n",
            "weighted avg       0.77      0.73      0.74       859\n",
            "\n"
          ]
        }
      ]
    },
    {
      "cell_type": "markdown",
      "source": [
        "# **`Research Question 2 : Training the POS Tagged tweets and Evaluation of SVM classification`**"
      ],
      "metadata": {
        "id": "yCPsBnp2U9HL"
      }
    },
    {
      "cell_type": "code",
      "source": [
        "if __name__ == \"__main__\":\n",
        "\n",
        "\n",
        "    train = pd.read_csv('/content/gdrive/MyDrive/Data/preprocessed data/processed_train.csv')\n",
        "    val= pd.read_csv('/content/gdrive/MyDrive/Data/preprocessed data/processed_val.csv')\n",
        "    test = pd.read_csv('/content/gdrive/MyDrive/Data/preprocessed data/processed_test.csv')\n",
        "    X_train, Y_train = train['pos_tagged'], train['task']\n",
        "    val_set= False\n",
        "    output_file = True\n",
        "    preprocessed = False\n",
        "    if val_set:\n",
        "      X_dev, Y_dev = val['pos_tagged'], val['task']\n",
        "    else:\n",
        "      X_test, Y_test = test['pos_tagged'],test['task']\n",
        "     #Select the vectorizer we want to use\n",
        "    tfidf = False\n",
        "    if tfidf:\n",
        "        vec = TfidfVectorizer(preprocessor=identity, tokenizer=tokenizer)\n",
        "    else:\n",
        "        # Bag of Words vectorizer\n",
        "        vec = CountVectorizer(preprocessor=identity, tokenizer=tokenizer)\n",
        "    #combine vectorizer with classifier\n",
        "    classifier = optimize_svm(vec, X_train, Y_train, 32,preprocessed) #SVM\n",
        "    if val_set:\n",
        "      get_score(classifier, X_dev, Y_dev, output_file)\n",
        "    else:\n",
        "      get_score(classifier, X_test, Y_test, output_file)\n",
        "   "
      ],
      "metadata": {
        "id": "Pdi336HrVN3f",
        "colab": {
          "base_uri": "https://localhost:8080/"
        },
        "outputId": "37296d6a-707f-48c5-ddd5-42f57685c061"
      },
      "execution_count": 47,
      "outputs": [
        {
          "output_type": "stream",
          "name": "stdout",
          "text": [
            "SVM classification with POStagged tweet\n",
            "Final accuracy: 0.7578579743888242\n",
            "              precision    recall  f1-score   support\n",
            "\n",
            "         NOT       0.86      0.80      0.83       620\n",
            "         OFF       0.56      0.65      0.60       239\n",
            "\n",
            "    accuracy                           0.76       859\n",
            "   macro avg       0.71      0.73      0.71       859\n",
            "weighted avg       0.77      0.76      0.76       859\n",
            "\n"
          ]
        }
      ]
    }
  ]
}