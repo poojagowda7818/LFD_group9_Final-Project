{
  "nbformat": 4,
  "nbformat_minor": 0,
  "metadata": {
    "colab": {
      "provenance": [],
      "collapsed_sections": []
    },
    "kernelspec": {
      "name": "python3",
      "display_name": "Python 3"
    },
    "language_info": {
      "name": "python"
    },
    "accelerator": "GPU"
  },
  "cells": [
    {
      "cell_type": "code",
      "execution_count": 152,
      "metadata": {
        "colab": {
          "base_uri": "https://localhost:8080/"
        },
        "id": "ZbqK47gMIgm6",
        "outputId": "470d2b77-6360-425a-a731-186d185f5738"
      },
      "outputs": [
        {
          "output_type": "stream",
          "name": "stdout",
          "text": [
            "Drive already mounted at /content/gdrive; to attempt to forcibly remount, call drive.mount(\"/content/gdrive\", force_remount=True).\n"
          ]
        }
      ],
      "source": [
        "from google.colab import drive\n",
        "drive.mount('/content/gdrive')"
      ]
    },
    {
      "cell_type": "code",
      "source": [
        "import argparse\n",
        "import pandas as pd \n",
        "import numpy as np\n",
        "import time as t\n",
        "import re\n",
        "from nltk.stem import PorterStemmer\n",
        "from sklearn.utils import resample, shuffle\n",
        "pd.set_option('mode.chained_assignment', None)\n",
        "\n",
        "import scipy.sparse as sp\n",
        "from sklearn.feature_extraction.text import CountVectorizer, TfidfVectorizer\n",
        "from sklearn.feature_extraction import DictVectorizer\n",
        "\n",
        "import spacy\n",
        "nlp = spacy.load(\"en_core_web_sm\")\n",
        "\n",
        "ps = PorterStemmer()"
      ],
      "metadata": {
        "id": "6IIzlnhVJaQV"
      },
      "execution_count": 183,
      "outputs": []
    },
    {
      "cell_type": "markdown",
      "source": [
        "# **Data Loading**"
      ],
      "metadata": {
        "id": "xQgjUizeoc7X"
      }
    },
    {
      "cell_type": "code",
      "source": [
        "train_df = pd.read_csv('/content/gdrive/MyDrive/Data/train.tsv',sep = \"\\t\", header =0)\n",
        "val_df = pd.read_csv('/content/gdrive/MyDrive/Data/dev.tsv',sep = \"\\t\", header = 0)\n",
        "test_df = pd.read_csv('/content/gdrive/MyDrive/Data/test.tsv',sep = \"\\t\", header = 0)"
      ],
      "metadata": {
        "id": "MPOZY-K3J73H"
      },
      "execution_count": 184,
      "outputs": []
    },
    {
      "cell_type": "code",
      "source": [
        "print(\"Dataset size:\", len(train_df))"
      ],
      "metadata": {
        "colab": {
          "base_uri": "https://localhost:8080/"
        },
        "id": "7TvPJ_z_L4-J",
        "outputId": "f9d4d046-0c35-4941-f556-4d2b2fb882dc"
      },
      "execution_count": 185,
      "outputs": [
        {
          "output_type": "stream",
          "name": "stdout",
          "text": [
            "Dataset size: 12239\n"
          ]
        }
      ]
    },
    {
      "cell_type": "code",
      "source": [
        "print(\"Dataset size:\", len(val_df))"
      ],
      "metadata": {
        "colab": {
          "base_uri": "https://localhost:8080/"
        },
        "id": "hAjI7UCVMHD0",
        "outputId": "16303a60-8afd-4be0-ec7f-f509b2f7dfe5"
      },
      "execution_count": 186,
      "outputs": [
        {
          "output_type": "stream",
          "name": "stdout",
          "text": [
            "Dataset size: 999\n"
          ]
        }
      ]
    },
    {
      "cell_type": "code",
      "source": [
        "print(\"Dataset size:\", len(test_df))"
      ],
      "metadata": {
        "colab": {
          "base_uri": "https://localhost:8080/"
        },
        "outputId": "a8f19cb5-7e4b-45e9-d718-07a82c1d166d",
        "id": "vUJR0mGaMVpb"
      },
      "execution_count": 187,
      "outputs": [
        {
          "output_type": "stream",
          "name": "stdout",
          "text": [
            "Dataset size: 859\n"
          ]
        }
      ]
    },
    {
      "cell_type": "code",
      "source": [
        "train_df.columns =['tweet', 'task']\n",
        "val_df.columns = ['tweet', 'task']\n",
        "test_df.columns = ['tweet', 'task']"
      ],
      "metadata": {
        "id": "_sdjPwR1RK5J"
      },
      "execution_count": 188,
      "outputs": []
    },
    {
      "cell_type": "code",
      "source": [
        "train_df.head()"
      ],
      "metadata": {
        "colab": {
          "base_uri": "https://localhost:8080/",
          "height": 206
        },
        "id": "qd_36RJoMfNK",
        "outputId": "b06c2826-d477-4425-af8b-50e9ae3f2372"
      },
      "execution_count": 190,
      "outputs": [
        {
          "output_type": "execute_result",
          "data": {
            "text/plain": [
              "                                               tweet task\n",
              "0  @USER @USER Go home you’re drunk!!! @USER #MAG...  OFF\n",
              "1  Amazon is investigating Chinese employees who ...  NOT\n",
              "2  @USER Someone should'veTaken\" this piece of sh...  OFF\n",
              "3  @USER @USER Obama wanted liberals &amp; illega...  NOT\n",
              "4                  @USER Liberals are all Kookoo !!!  OFF"
            ],
            "text/html": [
              "\n",
              "  <div id=\"df-0af40592-3ab6-4e0d-95c7-faea4b047d1a\">\n",
              "    <div class=\"colab-df-container\">\n",
              "      <div>\n",
              "<style scoped>\n",
              "    .dataframe tbody tr th:only-of-type {\n",
              "        vertical-align: middle;\n",
              "    }\n",
              "\n",
              "    .dataframe tbody tr th {\n",
              "        vertical-align: top;\n",
              "    }\n",
              "\n",
              "    .dataframe thead th {\n",
              "        text-align: right;\n",
              "    }\n",
              "</style>\n",
              "<table border=\"1\" class=\"dataframe\">\n",
              "  <thead>\n",
              "    <tr style=\"text-align: right;\">\n",
              "      <th></th>\n",
              "      <th>tweet</th>\n",
              "      <th>task</th>\n",
              "    </tr>\n",
              "  </thead>\n",
              "  <tbody>\n",
              "    <tr>\n",
              "      <th>0</th>\n",
              "      <td>@USER @USER Go home you’re drunk!!! @USER #MAG...</td>\n",
              "      <td>OFF</td>\n",
              "    </tr>\n",
              "    <tr>\n",
              "      <th>1</th>\n",
              "      <td>Amazon is investigating Chinese employees who ...</td>\n",
              "      <td>NOT</td>\n",
              "    </tr>\n",
              "    <tr>\n",
              "      <th>2</th>\n",
              "      <td>@USER Someone should'veTaken\" this piece of sh...</td>\n",
              "      <td>OFF</td>\n",
              "    </tr>\n",
              "    <tr>\n",
              "      <th>3</th>\n",
              "      <td>@USER @USER Obama wanted liberals &amp;amp; illega...</td>\n",
              "      <td>NOT</td>\n",
              "    </tr>\n",
              "    <tr>\n",
              "      <th>4</th>\n",
              "      <td>@USER Liberals are all Kookoo !!!</td>\n",
              "      <td>OFF</td>\n",
              "    </tr>\n",
              "  </tbody>\n",
              "</table>\n",
              "</div>\n",
              "      <button class=\"colab-df-convert\" onclick=\"convertToInteractive('df-0af40592-3ab6-4e0d-95c7-faea4b047d1a')\"\n",
              "              title=\"Convert this dataframe to an interactive table.\"\n",
              "              style=\"display:none;\">\n",
              "        \n",
              "  <svg xmlns=\"http://www.w3.org/2000/svg\" height=\"24px\"viewBox=\"0 0 24 24\"\n",
              "       width=\"24px\">\n",
              "    <path d=\"M0 0h24v24H0V0z\" fill=\"none\"/>\n",
              "    <path d=\"M18.56 5.44l.94 2.06.94-2.06 2.06-.94-2.06-.94-.94-2.06-.94 2.06-2.06.94zm-11 1L8.5 8.5l.94-2.06 2.06-.94-2.06-.94L8.5 2.5l-.94 2.06-2.06.94zm10 10l.94 2.06.94-2.06 2.06-.94-2.06-.94-.94-2.06-.94 2.06-2.06.94z\"/><path d=\"M17.41 7.96l-1.37-1.37c-.4-.4-.92-.59-1.43-.59-.52 0-1.04.2-1.43.59L10.3 9.45l-7.72 7.72c-.78.78-.78 2.05 0 2.83L4 21.41c.39.39.9.59 1.41.59.51 0 1.02-.2 1.41-.59l7.78-7.78 2.81-2.81c.8-.78.8-2.07 0-2.86zM5.41 20L4 18.59l7.72-7.72 1.47 1.35L5.41 20z\"/>\n",
              "  </svg>\n",
              "      </button>\n",
              "      \n",
              "  <style>\n",
              "    .colab-df-container {\n",
              "      display:flex;\n",
              "      flex-wrap:wrap;\n",
              "      gap: 12px;\n",
              "    }\n",
              "\n",
              "    .colab-df-convert {\n",
              "      background-color: #E8F0FE;\n",
              "      border: none;\n",
              "      border-radius: 50%;\n",
              "      cursor: pointer;\n",
              "      display: none;\n",
              "      fill: #1967D2;\n",
              "      height: 32px;\n",
              "      padding: 0 0 0 0;\n",
              "      width: 32px;\n",
              "    }\n",
              "\n",
              "    .colab-df-convert:hover {\n",
              "      background-color: #E2EBFA;\n",
              "      box-shadow: 0px 1px 2px rgba(60, 64, 67, 0.3), 0px 1px 3px 1px rgba(60, 64, 67, 0.15);\n",
              "      fill: #174EA6;\n",
              "    }\n",
              "\n",
              "    [theme=dark] .colab-df-convert {\n",
              "      background-color: #3B4455;\n",
              "      fill: #D2E3FC;\n",
              "    }\n",
              "\n",
              "    [theme=dark] .colab-df-convert:hover {\n",
              "      background-color: #434B5C;\n",
              "      box-shadow: 0px 1px 3px 1px rgba(0, 0, 0, 0.15);\n",
              "      filter: drop-shadow(0px 1px 2px rgba(0, 0, 0, 0.3));\n",
              "      fill: #FFFFFF;\n",
              "    }\n",
              "  </style>\n",
              "\n",
              "      <script>\n",
              "        const buttonEl =\n",
              "          document.querySelector('#df-0af40592-3ab6-4e0d-95c7-faea4b047d1a button.colab-df-convert');\n",
              "        buttonEl.style.display =\n",
              "          google.colab.kernel.accessAllowed ? 'block' : 'none';\n",
              "\n",
              "        async function convertToInteractive(key) {\n",
              "          const element = document.querySelector('#df-0af40592-3ab6-4e0d-95c7-faea4b047d1a');\n",
              "          const dataTable =\n",
              "            await google.colab.kernel.invokeFunction('convertToInteractive',\n",
              "                                                     [key], {});\n",
              "          if (!dataTable) return;\n",
              "\n",
              "          const docLinkHtml = 'Like what you see? Visit the ' +\n",
              "            '<a target=\"_blank\" href=https://colab.research.google.com/notebooks/data_table.ipynb>data table notebook</a>'\n",
              "            + ' to learn more about interactive tables.';\n",
              "          element.innerHTML = '';\n",
              "          dataTable['output_type'] = 'display_data';\n",
              "          await google.colab.output.renderOutput(dataTable, element);\n",
              "          const docLink = document.createElement('div');\n",
              "          docLink.innerHTML = docLinkHtml;\n",
              "          element.appendChild(docLink);\n",
              "        }\n",
              "      </script>\n",
              "    </div>\n",
              "  </div>\n",
              "  "
            ]
          },
          "metadata": {},
          "execution_count": 190
        }
      ]
    },
    {
      "cell_type": "code",
      "source": [
        "val_df.head()"
      ],
      "metadata": {
        "colab": {
          "base_uri": "https://localhost:8080/",
          "height": 206
        },
        "id": "elL_rv9qeKFi",
        "outputId": "717868a7-4c6e-4654-ce60-55d3ecafdafc"
      },
      "execution_count": 189,
      "outputs": [
        {
          "output_type": "execute_result",
          "data": {
            "text/plain": [
              "                                               tweet task\n",
              "0  @USER He is not a troll he is simply dumb but ...  OFF\n",
              "1  @USER I understand Annie she is stuck in betwe...  NOT\n",
              "2  @USER @USER Hillary was blaming women not too ...  OFF\n",
              "3  @USER @USER I support Jahs blessings on his hu...  OFF\n",
              "4  @USER You are runnning on the word of somethin...  NOT"
            ],
            "text/html": [
              "\n",
              "  <div id=\"df-00bc1e1f-52e8-44f4-9fdc-c5028d6eb447\">\n",
              "    <div class=\"colab-df-container\">\n",
              "      <div>\n",
              "<style scoped>\n",
              "    .dataframe tbody tr th:only-of-type {\n",
              "        vertical-align: middle;\n",
              "    }\n",
              "\n",
              "    .dataframe tbody tr th {\n",
              "        vertical-align: top;\n",
              "    }\n",
              "\n",
              "    .dataframe thead th {\n",
              "        text-align: right;\n",
              "    }\n",
              "</style>\n",
              "<table border=\"1\" class=\"dataframe\">\n",
              "  <thead>\n",
              "    <tr style=\"text-align: right;\">\n",
              "      <th></th>\n",
              "      <th>tweet</th>\n",
              "      <th>task</th>\n",
              "    </tr>\n",
              "  </thead>\n",
              "  <tbody>\n",
              "    <tr>\n",
              "      <th>0</th>\n",
              "      <td>@USER He is not a troll he is simply dumb but ...</td>\n",
              "      <td>OFF</td>\n",
              "    </tr>\n",
              "    <tr>\n",
              "      <th>1</th>\n",
              "      <td>@USER I understand Annie she is stuck in betwe...</td>\n",
              "      <td>NOT</td>\n",
              "    </tr>\n",
              "    <tr>\n",
              "      <th>2</th>\n",
              "      <td>@USER @USER Hillary was blaming women not too ...</td>\n",
              "      <td>OFF</td>\n",
              "    </tr>\n",
              "    <tr>\n",
              "      <th>3</th>\n",
              "      <td>@USER @USER I support Jahs blessings on his hu...</td>\n",
              "      <td>OFF</td>\n",
              "    </tr>\n",
              "    <tr>\n",
              "      <th>4</th>\n",
              "      <td>@USER You are runnning on the word of somethin...</td>\n",
              "      <td>NOT</td>\n",
              "    </tr>\n",
              "  </tbody>\n",
              "</table>\n",
              "</div>\n",
              "      <button class=\"colab-df-convert\" onclick=\"convertToInteractive('df-00bc1e1f-52e8-44f4-9fdc-c5028d6eb447')\"\n",
              "              title=\"Convert this dataframe to an interactive table.\"\n",
              "              style=\"display:none;\">\n",
              "        \n",
              "  <svg xmlns=\"http://www.w3.org/2000/svg\" height=\"24px\"viewBox=\"0 0 24 24\"\n",
              "       width=\"24px\">\n",
              "    <path d=\"M0 0h24v24H0V0z\" fill=\"none\"/>\n",
              "    <path d=\"M18.56 5.44l.94 2.06.94-2.06 2.06-.94-2.06-.94-.94-2.06-.94 2.06-2.06.94zm-11 1L8.5 8.5l.94-2.06 2.06-.94-2.06-.94L8.5 2.5l-.94 2.06-2.06.94zm10 10l.94 2.06.94-2.06 2.06-.94-2.06-.94-.94-2.06-.94 2.06-2.06.94z\"/><path d=\"M17.41 7.96l-1.37-1.37c-.4-.4-.92-.59-1.43-.59-.52 0-1.04.2-1.43.59L10.3 9.45l-7.72 7.72c-.78.78-.78 2.05 0 2.83L4 21.41c.39.39.9.59 1.41.59.51 0 1.02-.2 1.41-.59l7.78-7.78 2.81-2.81c.8-.78.8-2.07 0-2.86zM5.41 20L4 18.59l7.72-7.72 1.47 1.35L5.41 20z\"/>\n",
              "  </svg>\n",
              "      </button>\n",
              "      \n",
              "  <style>\n",
              "    .colab-df-container {\n",
              "      display:flex;\n",
              "      flex-wrap:wrap;\n",
              "      gap: 12px;\n",
              "    }\n",
              "\n",
              "    .colab-df-convert {\n",
              "      background-color: #E8F0FE;\n",
              "      border: none;\n",
              "      border-radius: 50%;\n",
              "      cursor: pointer;\n",
              "      display: none;\n",
              "      fill: #1967D2;\n",
              "      height: 32px;\n",
              "      padding: 0 0 0 0;\n",
              "      width: 32px;\n",
              "    }\n",
              "\n",
              "    .colab-df-convert:hover {\n",
              "      background-color: #E2EBFA;\n",
              "      box-shadow: 0px 1px 2px rgba(60, 64, 67, 0.3), 0px 1px 3px 1px rgba(60, 64, 67, 0.15);\n",
              "      fill: #174EA6;\n",
              "    }\n",
              "\n",
              "    [theme=dark] .colab-df-convert {\n",
              "      background-color: #3B4455;\n",
              "      fill: #D2E3FC;\n",
              "    }\n",
              "\n",
              "    [theme=dark] .colab-df-convert:hover {\n",
              "      background-color: #434B5C;\n",
              "      box-shadow: 0px 1px 3px 1px rgba(0, 0, 0, 0.15);\n",
              "      filter: drop-shadow(0px 1px 2px rgba(0, 0, 0, 0.3));\n",
              "      fill: #FFFFFF;\n",
              "    }\n",
              "  </style>\n",
              "\n",
              "      <script>\n",
              "        const buttonEl =\n",
              "          document.querySelector('#df-00bc1e1f-52e8-44f4-9fdc-c5028d6eb447 button.colab-df-convert');\n",
              "        buttonEl.style.display =\n",
              "          google.colab.kernel.accessAllowed ? 'block' : 'none';\n",
              "\n",
              "        async function convertToInteractive(key) {\n",
              "          const element = document.querySelector('#df-00bc1e1f-52e8-44f4-9fdc-c5028d6eb447');\n",
              "          const dataTable =\n",
              "            await google.colab.kernel.invokeFunction('convertToInteractive',\n",
              "                                                     [key], {});\n",
              "          if (!dataTable) return;\n",
              "\n",
              "          const docLinkHtml = 'Like what you see? Visit the ' +\n",
              "            '<a target=\"_blank\" href=https://colab.research.google.com/notebooks/data_table.ipynb>data table notebook</a>'\n",
              "            + ' to learn more about interactive tables.';\n",
              "          element.innerHTML = '';\n",
              "          dataTable['output_type'] = 'display_data';\n",
              "          await google.colab.output.renderOutput(dataTable, element);\n",
              "          const docLink = document.createElement('div');\n",
              "          docLink.innerHTML = docLinkHtml;\n",
              "          element.appendChild(docLink);\n",
              "        }\n",
              "      </script>\n",
              "    </div>\n",
              "  </div>\n",
              "  "
            ]
          },
          "metadata": {},
          "execution_count": 189
        }
      ]
    },
    {
      "cell_type": "code",
      "source": [
        "test_df.head()"
      ],
      "metadata": {
        "colab": {
          "base_uri": "https://localhost:8080/",
          "height": 206
        },
        "id": "zKS0QOc3eM-H",
        "outputId": "c8d00b7b-71d3-495e-bc94-157b96854c58"
      },
      "execution_count": 161,
      "outputs": [
        {
          "output_type": "execute_result",
          "data": {
            "text/plain": [
              "                                               tweet task\n",
              "0  #ConstitutionDay is revered by Conservatives, ...  NOT\n",
              "1  #FOXNews #NRA #MAGA #POTUS #TRUMP #2ndAmendmen...  NOT\n",
              "2  #Watching #Boomer getting the news that she is...  NOT\n",
              "3  #NoPasaran: Unity demo to oppose the far-right...  OFF\n",
              "4           . . . What the fuck did he do this time?  OFF"
            ],
            "text/html": [
              "\n",
              "  <div id=\"df-6aba5685-d89e-44d8-9aa8-137e9a4f1057\">\n",
              "    <div class=\"colab-df-container\">\n",
              "      <div>\n",
              "<style scoped>\n",
              "    .dataframe tbody tr th:only-of-type {\n",
              "        vertical-align: middle;\n",
              "    }\n",
              "\n",
              "    .dataframe tbody tr th {\n",
              "        vertical-align: top;\n",
              "    }\n",
              "\n",
              "    .dataframe thead th {\n",
              "        text-align: right;\n",
              "    }\n",
              "</style>\n",
              "<table border=\"1\" class=\"dataframe\">\n",
              "  <thead>\n",
              "    <tr style=\"text-align: right;\">\n",
              "      <th></th>\n",
              "      <th>tweet</th>\n",
              "      <th>task</th>\n",
              "    </tr>\n",
              "  </thead>\n",
              "  <tbody>\n",
              "    <tr>\n",
              "      <th>0</th>\n",
              "      <td>#ConstitutionDay is revered by Conservatives, ...</td>\n",
              "      <td>NOT</td>\n",
              "    </tr>\n",
              "    <tr>\n",
              "      <th>1</th>\n",
              "      <td>#FOXNews #NRA #MAGA #POTUS #TRUMP #2ndAmendmen...</td>\n",
              "      <td>NOT</td>\n",
              "    </tr>\n",
              "    <tr>\n",
              "      <th>2</th>\n",
              "      <td>#Watching #Boomer getting the news that she is...</td>\n",
              "      <td>NOT</td>\n",
              "    </tr>\n",
              "    <tr>\n",
              "      <th>3</th>\n",
              "      <td>#NoPasaran: Unity demo to oppose the far-right...</td>\n",
              "      <td>OFF</td>\n",
              "    </tr>\n",
              "    <tr>\n",
              "      <th>4</th>\n",
              "      <td>. . . What the fuck did he do this time?</td>\n",
              "      <td>OFF</td>\n",
              "    </tr>\n",
              "  </tbody>\n",
              "</table>\n",
              "</div>\n",
              "      <button class=\"colab-df-convert\" onclick=\"convertToInteractive('df-6aba5685-d89e-44d8-9aa8-137e9a4f1057')\"\n",
              "              title=\"Convert this dataframe to an interactive table.\"\n",
              "              style=\"display:none;\">\n",
              "        \n",
              "  <svg xmlns=\"http://www.w3.org/2000/svg\" height=\"24px\"viewBox=\"0 0 24 24\"\n",
              "       width=\"24px\">\n",
              "    <path d=\"M0 0h24v24H0V0z\" fill=\"none\"/>\n",
              "    <path d=\"M18.56 5.44l.94 2.06.94-2.06 2.06-.94-2.06-.94-.94-2.06-.94 2.06-2.06.94zm-11 1L8.5 8.5l.94-2.06 2.06-.94-2.06-.94L8.5 2.5l-.94 2.06-2.06.94zm10 10l.94 2.06.94-2.06 2.06-.94-2.06-.94-.94-2.06-.94 2.06-2.06.94z\"/><path d=\"M17.41 7.96l-1.37-1.37c-.4-.4-.92-.59-1.43-.59-.52 0-1.04.2-1.43.59L10.3 9.45l-7.72 7.72c-.78.78-.78 2.05 0 2.83L4 21.41c.39.39.9.59 1.41.59.51 0 1.02-.2 1.41-.59l7.78-7.78 2.81-2.81c.8-.78.8-2.07 0-2.86zM5.41 20L4 18.59l7.72-7.72 1.47 1.35L5.41 20z\"/>\n",
              "  </svg>\n",
              "      </button>\n",
              "      \n",
              "  <style>\n",
              "    .colab-df-container {\n",
              "      display:flex;\n",
              "      flex-wrap:wrap;\n",
              "      gap: 12px;\n",
              "    }\n",
              "\n",
              "    .colab-df-convert {\n",
              "      background-color: #E8F0FE;\n",
              "      border: none;\n",
              "      border-radius: 50%;\n",
              "      cursor: pointer;\n",
              "      display: none;\n",
              "      fill: #1967D2;\n",
              "      height: 32px;\n",
              "      padding: 0 0 0 0;\n",
              "      width: 32px;\n",
              "    }\n",
              "\n",
              "    .colab-df-convert:hover {\n",
              "      background-color: #E2EBFA;\n",
              "      box-shadow: 0px 1px 2px rgba(60, 64, 67, 0.3), 0px 1px 3px 1px rgba(60, 64, 67, 0.15);\n",
              "      fill: #174EA6;\n",
              "    }\n",
              "\n",
              "    [theme=dark] .colab-df-convert {\n",
              "      background-color: #3B4455;\n",
              "      fill: #D2E3FC;\n",
              "    }\n",
              "\n",
              "    [theme=dark] .colab-df-convert:hover {\n",
              "      background-color: #434B5C;\n",
              "      box-shadow: 0px 1px 3px 1px rgba(0, 0, 0, 0.15);\n",
              "      filter: drop-shadow(0px 1px 2px rgba(0, 0, 0, 0.3));\n",
              "      fill: #FFFFFF;\n",
              "    }\n",
              "  </style>\n",
              "\n",
              "      <script>\n",
              "        const buttonEl =\n",
              "          document.querySelector('#df-6aba5685-d89e-44d8-9aa8-137e9a4f1057 button.colab-df-convert');\n",
              "        buttonEl.style.display =\n",
              "          google.colab.kernel.accessAllowed ? 'block' : 'none';\n",
              "\n",
              "        async function convertToInteractive(key) {\n",
              "          const element = document.querySelector('#df-6aba5685-d89e-44d8-9aa8-137e9a4f1057');\n",
              "          const dataTable =\n",
              "            await google.colab.kernel.invokeFunction('convertToInteractive',\n",
              "                                                     [key], {});\n",
              "          if (!dataTable) return;\n",
              "\n",
              "          const docLinkHtml = 'Like what you see? Visit the ' +\n",
              "            '<a target=\"_blank\" href=https://colab.research.google.com/notebooks/data_table.ipynb>data table notebook</a>'\n",
              "            + ' to learn more about interactive tables.';\n",
              "          element.innerHTML = '';\n",
              "          dataTable['output_type'] = 'display_data';\n",
              "          await google.colab.output.renderOutput(dataTable, element);\n",
              "          const docLink = document.createElement('div');\n",
              "          docLink.innerHTML = docLinkHtml;\n",
              "          element.appendChild(docLink);\n",
              "        }\n",
              "      </script>\n",
              "    </div>\n",
              "  </div>\n",
              "  "
            ]
          },
          "metadata": {},
          "execution_count": 161
        }
      ]
    },
    {
      "cell_type": "markdown",
      "source": [
        "# **DATA PREPROCESS**"
      ],
      "metadata": {
        "id": "lzTPLoUeokMH"
      }
    },
    {
      "cell_type": "code",
      "source": [
        "#before up-down sampling the label distribution\n",
        "\n",
        "print(train_df[\"task\"].value_counts())\n",
        "\n",
        "train_df.groupby('task').size().plot(kind='pie',\n",
        "                                       y = \"v1\",\n",
        "                                       label = \"Type\",\n",
        "                                       autopct='%1.1f%%')"
      ],
      "metadata": {
        "colab": {
          "base_uri": "https://localhost:8080/",
          "height": 317
        },
        "id": "o9MzBAjakGhz",
        "outputId": "2f594983-b6c8-4002-ef0f-231a9ca05391"
      },
      "execution_count": 191,
      "outputs": [
        {
          "output_type": "stream",
          "name": "stdout",
          "text": [
            "NOT    8192\n",
            "OFF    4047\n",
            "Name: task, dtype: int64\n"
          ]
        },
        {
          "output_type": "execute_result",
          "data": {
            "text/plain": [
              "<matplotlib.axes._subplots.AxesSubplot at 0x7fb84c44f050>"
            ]
          },
          "metadata": {},
          "execution_count": 191
        },
        {
          "output_type": "display_data",
          "data": {
            "text/plain": [
              "<Figure size 432x288 with 1 Axes>"
            ],
            "image/png": "[encoded data removed]"
          },
          "metadata": {}
        }
      ]
    },
    {
      "cell_type": "code",
      "source": [
        "def up_down_sampling(train_df):\n",
        "  off =  resample(train_df[train_df['task']=='OFF'], replace=False, n_samples=4000)\n",
        "  Not = resample(train_df[train_df['task']=='NOT'], replace=False, n_samples=4000)\n",
        "  df_train = pd.concat([off, Not])\n",
        "  train_df = shuffle(df_train)\n",
        "  return train_df"
      ],
      "metadata": {
        "id": "RdJv0mLUkp1j"
      },
      "execution_count": 192,
      "outputs": []
    },
    {
      "cell_type": "code",
      "source": [
        "def apply_stem(tweet):\n",
        "\twords = [ps.stem(w) for w in tweet.split()]\n",
        "\treturn ' '.join(words)\n",
        "\n",
        "def remove_newline(tweet):\n",
        "\t_tweet = re.sub('\\n', '', tweet)\n",
        "\treturn _tweet\n",
        "\n",
        "\t\n",
        "def apply_lemma(tweet):\n",
        "\tdoc = nlp(tweet)\n",
        "\tlemma = [token.lemma_ for token in doc]\n",
        "\treturn ' '.join(lemma)\n",
        " \n",
        "def remove_stopwords(tweet):\n",
        "\tdoc = nlp(tweet)\n",
        "\tstop = [token.text for token in doc if not token.is_stop and not token.is_punct]\n",
        "\treturn ' '.join(stop)\n",
        " \t\n",
        "\n",
        "def clean_data(tweet):\n",
        "    splitted_tweet = tweet.lower().split()\n",
        "    clean_tweet = []\n",
        "    previous_word = None\n",
        "    user_count = 0\n",
        "    for word in splitted_tweet:\n",
        "        #if word not in spacy_stopwords:\n",
        "        word = re.sub(\"[#@]\",\"\",word)\n",
        "        word = re.sub(\"!\",\" !\",word)\n",
        "        word = re.sub(\"[?]\",\" ?\",word)\n",
        "        \n",
        "        if(word == \"user\"):\n",
        "          user_count += 1\n",
        "          \n",
        "        if(word == \"user\" and previous_word == \"user\"):\n",
        "          pass\n",
        "        else:\n",
        "          clean_tweet.append(word)\n",
        "          \n",
        "        previous_word = word\n",
        "          \n",
        "    return \" \".join(clean_tweet), user_count\n",
        "\n",
        "# Calculating number of Global Positioning Entity in a text\n",
        "def count_gpe(txt):\n",
        "\treturn sum([1 for token in nlp(txt).ents if token.label_ == 'GPE'])\n",
        "\n",
        "\n",
        "# Claculating Number of Organisation in a Text\n",
        "def count_org(txt):\n",
        "\treturn sum([1 for token in nlp(txt).ents if token.label_ == 'ORG'])\n",
        "\n",
        "\n",
        "# Calculating Number of Sentence in a text\n",
        "def count_sentence(txt):\n",
        "\tdoc = nlp(txt)\n",
        "\treturn len([sent.text for sent in doc.sents])\n",
        "\n",
        "\n",
        "#Extract only Noun and Proper Noun\n",
        "def extract_noun(tweet):\n",
        "\tdoc = nlp(tweet)\n",
        "\tcleaned_doc = [token.lemma_ for token in doc if not token.is_stop and not token.is_punct and (token.pos_ == 'NOUN' or token.pos_ == 'PROPN')]\n",
        "\treturn ' '.join(cleaned_doc)\n",
        "\n",
        "\n",
        "# Adding Pos Tag with the corresponding words\n",
        "def spacy_pos(tweet):\n",
        "\tdoc = nlp(tweet)\n",
        "\tcleaned = [token.lemma_ + '_' + token.pos_ for token in doc if not token.is_stop and not token.is_punct]\n",
        "\treturn ' '.join(cleaned)\n",
        "\n",
        "\n",
        "#Normalize the Custom Features\n",
        "def normalize(df):\n",
        "\tdf['sentence_count'] /= df['sentence_count'].max()\n",
        "\tdf['gpe_count'] /= df['gpe_count'].max()\n",
        "\tdf['org_count'] /= df['org_count'].max()\n",
        "\t\n",
        "\treturn df\n"
      ],
      "metadata": {
        "id": "xpUego5rY7-T"
      },
      "execution_count": 193,
      "outputs": []
    },
    {
      "cell_type": "code",
      "source": [
        "if __name__ == \"__main__\":\n",
        "\n",
        "  train_df = up_down_sampling(train_df)\n",
        "  train_df = train_df.merge(train_df.tweet.apply(lambda x:pd.Series({'preprocessed':clean_data(x)[0], 'user_count': clean_data(x)[1], })), left_index=True, right_index=True)\n",
        "  train_df.drop('user_count', inplace=True, axis=1)\n",
        "  val_df = val_df.merge(val_df.tweet.apply(lambda x:pd.Series({'preprocessed':clean_data(x)[0], 'user_count': clean_data(x)[1]})), left_index=True, right_index=True)\n",
        "  val_df.drop('user_count', inplace=True, axis=1)\n",
        "\n",
        "  test_df = test_df.merge(test_df.tweet.apply(lambda x:pd.Series({'preprocessed':clean_data(x)[0], 'user_count': clean_data(x)[1]})), left_index=True, right_index=True)\n",
        "  test_df.drop('user_count', inplace=True, axis=1)\n",
        "\t\n",
        "  start = t.time()\n",
        "  train_df['gpe_count'] = [sum([1 for token in nlp(txt).ents if token.label_ == 'GPE']) for txt in train_df['tweet']]\n",
        "  val_df['gpe_count'] = [sum([1 for token in nlp(txt).ents if token.label_ == 'GPE']) for txt in val_df['tweet']]\n",
        "  test_df['gpe_count'] = [sum([1 for token in nlp(txt).ents if token.label_ == 'GPE'])\n",
        "  for txt in test_df['tweet']]\n",
        "  stop = t.time()\n",
        "  print(\"\\n Count GPE Time: {}\".format(stop - start))\n",
        "  start = t.time()\n",
        "  train_df['org_count'] = [sum([1 for token in nlp(txt).ents if token.label_ == 'ORG']) for txt in train_df['tweet']]\n",
        "  val_df['org_count'] = [sum([1 for token in nlp(txt).ents if token.label_ == 'ORG']) for txt in val_df['tweet']]\n",
        "  test_df['org_count'] = [sum([1 for token in nlp(txt).ents if token.label_ == 'ORG']) for txt in test_df['tweet']]\n",
        "  \n",
        "  stop = t.time()\n",
        "  print(\"\\n Count Name_entity Time: {}\".format(stop - start))\n",
        "  \n",
        "  start = t.time()\n",
        "  \n",
        "  train_df['sentence_count'] = [len([sent.text for sent in nlp(tweet).sents])for tweet in train_df['tweet']]\n",
        "  \n",
        "  val_df['sentence_count'] = [len([sent.text for sent in nlp(tweet).sents])for tweet in val_df['tweet']]\n",
        "  \n",
        "  test_df['sentence_count'] = [len([sent.text for sent in nlp(tweet).sents]) for tweet in test_df['tweet']]\n",
        "  \n",
        "  stop = t.time()\n",
        "  print(\"\\n Count Sentence: {}\".format(stop - start))\n",
        "  \n",
        "  start = t.time()\n",
        "  train_df['pos_tagged'] = [' '.join([token.lemma_ + '_' + token.pos_ for token in nlp(tweet) if not token.is_stop and not token.is_punct])for tweet in train_df['preprocessed']]\n",
        "  \n",
        "  val_df['pos_tagged'] = [' '.join([token.lemma_ + '_' + token.pos_ for token in nlp(tweet) if not token.is_stop and not token.is_punct])for tweet in val_df['preprocessed']]\n",
        "  \n",
        "  test_df['pos_tagged'] = [' '.join([token.lemma_ + '_' + token.pos_ for token in nlp(tweet) if not token.is_stop and not token.is_punct])for tweet in test_df['preprocessed']]\n",
        "  \n",
        "  stop = t.time()\n",
        "  print(\"\\n Adding Pos Tag: {}\".format(stop - start))\n",
        "  start = t.time()\n",
        "  \n",
        "  train_df['noun'] = [' '.join([token.lemma_ for token in nlp(tweet) if not token.is_stop and not token.is_punct and (token.pos_ == 'NOUN' or token.pos_ == 'PROPN')])for tweet in train_df['preprocessed']]\n",
        "  val_df['noun'] = [' '.join([token.lemma_ for token in nlp(tweet) if not token.is_stop and not token.is_punct and (token.pos_ == 'NOUN' or token.pos_ == 'PROPN')])for tweet in val_df['preprocessed']]\n",
        "  test_df['noun'] = [' '.join([token.lemma_ for token in nlp(tweet) if not token.is_stop and not token.is_punct and (token.pos_ == 'NOUN' or token.pos_ == 'PROPN')])for tweet in test_df['preprocessed']]\n",
        "  \n",
        "  stop = t.time()\n",
        "  print(\"\\n Noun and Proper Noun Extraction: {}\".format(stop - start))\n",
        "  \n",
        "  train_df = normalize(train_df)\n",
        "  val_df = normalize(val_df)\n",
        "  test_df = normalize(test_df)\n",
        "  \n",
        "  train_df.to_csv('/content/gdrive/MyDrive/Data/preprocessed data/processed_train.csv', index=False)\n",
        "  val_df.to_csv('/content/gdrive/MyDrive/Data/preprocessed data/processed_val.csv', index=False)\n",
        "  test_df.to_csv('/content/gdrive/MyDrive/Data/preprocessed data/processed_test.csv', index=False)\n"
      ],
      "metadata": {
        "colab": {
          "base_uri": "https://localhost:8080/"
        },
        "id": "s-kSTqwUOBRn",
        "outputId": "b8205a0c-0c46-4480-b7cb-e00d13273ac0"
      },
      "execution_count": 194,
      "outputs": [
        {
          "output_type": "stream",
          "name": "stdout",
          "text": [
            "\n",
            " Count GPE Time: 83.06677317619324\n",
            "\n",
            " Count Name_entity Time: 79.88586759567261\n",
            "\n",
            " Count Sentence: 83.17310166358948\n",
            "\n",
            " Adding Pos Tag: 78.96578979492188\n",
            "\n",
            " Noun and Proper Noun Extraction: 78.07957291603088\n"
          ]
        }
      ]
    },
    {
      "cell_type": "code",
      "source": [
        "train_df = pd.read_csv('/content/gdrive/MyDrive/Data/preprocessed data/processed_train.csv')\n",
        "val_df = pd.read_csv('/content/gdrive/MyDrive/Data/preprocessed data/processed_val.csv')\n",
        "test_df = pd.read_csv('/content/gdrive/MyDrive/Data/preprocessed data/processed_val.csv')"
      ],
      "metadata": {
        "id": "_8omeO6Ig_WA"
      },
      "execution_count": 195,
      "outputs": []
    },
    {
      "cell_type": "code",
      "source": [
        "#after up-down sampling\n",
        "print(train_df[\"task\"].value_counts())\n",
        "\n",
        "train_df.groupby('task').size().plot(kind='pie',\n",
        "                                       y = \"v1\",\n",
        "                                       label = \"Type\",\n",
        "                                       autopct='%1.1f%%')"
      ],
      "metadata": {
        "colab": {
          "base_uri": "https://localhost:8080/",
          "height": 317
        },
        "id": "HRzPaV4Zg4Cl",
        "outputId": "5c906ca8-7e24-4923-bf1d-627f83ef9c68"
      },
      "execution_count": 196,
      "outputs": [
        {
          "output_type": "stream",
          "name": "stdout",
          "text": [
            "OFF    4000\n",
            "NOT    4000\n",
            "Name: task, dtype: int64\n"
          ]
        },
        {
          "output_type": "execute_result",
          "data": {
            "text/plain": [
              "<matplotlib.axes._subplots.AxesSubplot at 0x7fb835917e50>"
            ]
          },
          "metadata": {},
          "execution_count": 196
        },
        {
          "output_type": "display_data",
          "data": {
            "text/plain": [
              "<Figure size 432x288 with 1 Axes>"
            ],
            "image/png": "[encoded data removed]"
          },
          "metadata": {}
        }
      ]
    },
    {
      "cell_type": "code",
      "source": [
        "train_df.head()"
      ],
      "metadata": {
        "colab": {
          "base_uri": "https://localhost:8080/",
          "height": 652
        },
        "id": "mkOjsbMCz4zo",
        "outputId": "5fa136db-c4a3-4cd7-b547-0b1571a00c49"
      },
      "execution_count": 197,
      "outputs": [
        {
          "output_type": "execute_result",
          "data": {
            "text/plain": [
              "                                               tweet task  \\\n",
              "0  @USER Who will abuse it the most: liberals or ...  OFF   \n",
              "1  @USER @USER But we can do better. As evidenced...  NOT   \n",
              "2  @USER @USER @USER @USER @USER @USER @USER @USE...  NOT   \n",
              "3  @USER Great stalk..hunters like yourself and y...  OFF   \n",
              "4                     @USER HE IS IM SO PROUD OF HIM  NOT   \n",
              "\n",
              "                                        preprocessed  gpe_count  org_count  \\\n",
              "0  user who will abuse it the most: liberals or r...        0.0   0.117647   \n",
              "1  user but we can do better. as evidenced by the...        0.0   0.117647   \n",
              "2  user this is the vetsresistsquadron\" is bullsh...        0.0   0.000000   \n",
              "3  user great stalk..hunters like yourself and yo...        0.0   0.058824   \n",
              "4                      user he is im so proud of him        0.0   0.000000   \n",
              "\n",
              "   sentence_count                                         pos_tagged  \\\n",
              "0          0.0625        user_NOUN abuse_VERB liberal_NOUN rino_NOUN   \n",
              "1          0.1875  user_NOUN well_ADV evidence_VERB gifford_NOUN ...   \n",
              "2          0.1875  user_NOUN vetsresistsquadron_NOUN bullshit_ADJ...   \n",
              "3          0.0625  user_PROPN great_PROPN stalk_NOUN hunter_NOUN ...   \n",
              "4          0.1250                         user_NOUN m_VERB proud_ADJ   \n",
              "\n",
              "                                                noun  \n",
              "0                                  user liberal rino  \n",
              "1  user gifford law center study gun control gun ...  \n",
              "2  user vetsresistsquadron girl scout veteran vet...  \n",
              "3  user great stalk hunter wife reason animal lib...  \n",
              "4                                               user  "
            ],
            "text/html": [
              "\n",
              "  <div id=\"df-1978ff19-50dd-446f-9e01-da208f4e49dd\">\n",
              "    <div class=\"colab-df-container\">\n",
              "      <div>\n",
              "<style scoped>\n",
              "    .dataframe tbody tr th:only-of-type {\n",
              "        vertical-align: middle;\n",
              "    }\n",
              "\n",
              "    .dataframe tbody tr th {\n",
              "        vertical-align: top;\n",
              "    }\n",
              "\n",
              "    .dataframe thead th {\n",
              "        text-align: right;\n",
              "    }\n",
              "</style>\n",
              "<table border=\"1\" class=\"dataframe\">\n",
              "  <thead>\n",
              "    <tr style=\"text-align: right;\">\n",
              "      <th></th>\n",
              "      <th>tweet</th>\n",
              "      <th>task</th>\n",
              "      <th>preprocessed</th>\n",
              "      <th>gpe_count</th>\n",
              "      <th>org_count</th>\n",
              "      <th>sentence_count</th>\n",
              "      <th>pos_tagged</th>\n",
              "      <th>noun</th>\n",
              "    </tr>\n",
              "  </thead>\n",
              "  <tbody>\n",
              "    <tr>\n",
              "      <th>0</th>\n",
              "      <td>@USER Who will abuse it the most: liberals or ...</td>\n",
              "      <td>OFF</td>\n",
              "      <td>user who will abuse it the most: liberals or r...</td>\n",
              "      <td>0.0</td>\n",
              "      <td>0.117647</td>\n",
              "      <td>0.0625</td>\n",
              "      <td>user_NOUN abuse_VERB liberal_NOUN rino_NOUN</td>\n",
              "      <td>user liberal rino</td>\n",
              "    </tr>\n",
              "    <tr>\n",
              "      <th>1</th>\n",
              "      <td>@USER @USER But we can do better. As evidenced...</td>\n",
              "      <td>NOT</td>\n",
              "      <td>user but we can do better. as evidenced by the...</td>\n",
              "      <td>0.0</td>\n",
              "      <td>0.117647</td>\n",
              "      <td>0.1875</td>\n",
              "      <td>user_NOUN well_ADV evidence_VERB gifford_NOUN ...</td>\n",
              "      <td>user gifford law center study gun control gun ...</td>\n",
              "    </tr>\n",
              "    <tr>\n",
              "      <th>2</th>\n",
              "      <td>@USER @USER @USER @USER @USER @USER @USER @USE...</td>\n",
              "      <td>NOT</td>\n",
              "      <td>user this is the vetsresistsquadron\" is bullsh...</td>\n",
              "      <td>0.0</td>\n",
              "      <td>0.000000</td>\n",
              "      <td>0.1875</td>\n",
              "      <td>user_NOUN vetsresistsquadron_NOUN bullshit_ADJ...</td>\n",
              "      <td>user vetsresistsquadron girl scout veteran vet...</td>\n",
              "    </tr>\n",
              "    <tr>\n",
              "      <th>3</th>\n",
              "      <td>@USER Great stalk..hunters like yourself and y...</td>\n",
              "      <td>OFF</td>\n",
              "      <td>user great stalk..hunters like yourself and yo...</td>\n",
              "      <td>0.0</td>\n",
              "      <td>0.058824</td>\n",
              "      <td>0.0625</td>\n",
              "      <td>user_PROPN great_PROPN stalk_NOUN hunter_NOUN ...</td>\n",
              "      <td>user great stalk hunter wife reason animal lib...</td>\n",
              "    </tr>\n",
              "    <tr>\n",
              "      <th>4</th>\n",
              "      <td>@USER HE IS IM SO PROUD OF HIM</td>\n",
              "      <td>NOT</td>\n",
              "      <td>user he is im so proud of him</td>\n",
              "      <td>0.0</td>\n",
              "      <td>0.000000</td>\n",
              "      <td>0.1250</td>\n",
              "      <td>user_NOUN m_VERB proud_ADJ</td>\n",
              "      <td>user</td>\n",
              "    </tr>\n",
              "  </tbody>\n",
              "</table>\n",
              "</div>\n",
              "      <button class=\"colab-df-convert\" onclick=\"convertToInteractive('df-1978ff19-50dd-446f-9e01-da208f4e49dd')\"\n",
              "              title=\"Convert this dataframe to an interactive table.\"\n",
              "              style=\"display:none;\">\n",
              "        \n",
              "  <svg xmlns=\"http://www.w3.org/2000/svg\" height=\"24px\"viewBox=\"0 0 24 24\"\n",
              "       width=\"24px\">\n",
              "    <path d=\"M0 0h24v24H0V0z\" fill=\"none\"/>\n",
              "    <path d=\"M18.56 5.44l.94 2.06.94-2.06 2.06-.94-2.06-.94-.94-2.06-.94 2.06-2.06.94zm-11 1L8.5 8.5l.94-2.06 2.06-.94-2.06-.94L8.5 2.5l-.94 2.06-2.06.94zm10 10l.94 2.06.94-2.06 2.06-.94-2.06-.94-.94-2.06-.94 2.06-2.06.94z\"/><path d=\"M17.41 7.96l-1.37-1.37c-.4-.4-.92-.59-1.43-.59-.52 0-1.04.2-1.43.59L10.3 9.45l-7.72 7.72c-.78.78-.78 2.05 0 2.83L4 21.41c.39.39.9.59 1.41.59.51 0 1.02-.2 1.41-.59l7.78-7.78 2.81-2.81c.8-.78.8-2.07 0-2.86zM5.41 20L4 18.59l7.72-7.72 1.47 1.35L5.41 20z\"/>\n",
              "  </svg>\n",
              "      </button>\n",
              "      \n",
              "  <style>\n",
              "    .colab-df-container {\n",
              "      display:flex;\n",
              "      flex-wrap:wrap;\n",
              "      gap: 12px;\n",
              "    }\n",
              "\n",
              "    .colab-df-convert {\n",
              "      background-color: #E8F0FE;\n",
              "      border: none;\n",
              "      border-radius: 50%;\n",
              "      cursor: pointer;\n",
              "      display: none;\n",
              "      fill: #1967D2;\n",
              "      height: 32px;\n",
              "      padding: 0 0 0 0;\n",
              "      width: 32px;\n",
              "    }\n",
              "\n",
              "    .colab-df-convert:hover {\n",
              "      background-color: #E2EBFA;\n",
              "      box-shadow: 0px 1px 2px rgba(60, 64, 67, 0.3), 0px 1px 3px 1px rgba(60, 64, 67, 0.15);\n",
              "      fill: #174EA6;\n",
              "    }\n",
              "\n",
              "    [theme=dark] .colab-df-convert {\n",
              "      background-color: #3B4455;\n",
              "      fill: #D2E3FC;\n",
              "    }\n",
              "\n",
              "    [theme=dark] .colab-df-convert:hover {\n",
              "      background-color: #434B5C;\n",
              "      box-shadow: 0px 1px 3px 1px rgba(0, 0, 0, 0.15);\n",
              "      filter: drop-shadow(0px 1px 2px rgba(0, 0, 0, 0.3));\n",
              "      fill: #FFFFFF;\n",
              "    }\n",
              "  </style>\n",
              "\n",
              "      <script>\n",
              "        const buttonEl =\n",
              "          document.querySelector('#df-1978ff19-50dd-446f-9e01-da208f4e49dd button.colab-df-convert');\n",
              "        buttonEl.style.display =\n",
              "          google.colab.kernel.accessAllowed ? 'block' : 'none';\n",
              "\n",
              "        async function convertToInteractive(key) {\n",
              "          const element = document.querySelector('#df-1978ff19-50dd-446f-9e01-da208f4e49dd');\n",
              "          const dataTable =\n",
              "            await google.colab.kernel.invokeFunction('convertToInteractive',\n",
              "                                                     [key], {});\n",
              "          if (!dataTable) return;\n",
              "\n",
              "          const docLinkHtml = 'Like what you see? Visit the ' +\n",
              "            '<a target=\"_blank\" href=https://colab.research.google.com/notebooks/data_table.ipynb>data table notebook</a>'\n",
              "            + ' to learn more about interactive tables.';\n",
              "          element.innerHTML = '';\n",
              "          dataTable['output_type'] = 'display_data';\n",
              "          await google.colab.output.renderOutput(dataTable, element);\n",
              "          const docLink = document.createElement('div');\n",
              "          docLink.innerHTML = docLinkHtml;\n",
              "          element.appendChild(docLink);\n",
              "        }\n",
              "      </script>\n",
              "    </div>\n",
              "  </div>\n",
              "  "
            ]
          },
          "metadata": {},
          "execution_count": 197
        }
      ]
    },
    {
      "cell_type": "markdown",
      "source": [
        "# **Classic Model**"
      ],
      "metadata": {
        "id": "kus_qimn0EhK"
      }
    },
    {
      "cell_type": "code",
      "source": [
        "from sklearn.naive_bayes import MultinomialNB\n",
        "from sklearn.feature_extraction.text import CountVectorizer, TfidfVectorizer\n",
        "from sklearn.feature_extraction import DictVectorizer\n",
        "from sklearn.ensemble import RandomForestClassifier, VotingClassifier\n",
        "from sklearn.neighbors import KNeighborsClassifier\n",
        "from sklearn.tree import DecisionTreeClassifier\n",
        "from sklearn import svm\n",
        "from sklearn.pipeline import Pipeline\n",
        "from sklearn.metrics import accuracy_score, classification_report\n",
        "import pandas as pd\n",
        "import numpy as np\n",
        "import spacy\n",
        "\n",
        "nlp = spacy.load(\"en_core_web_sm\")\n",
        "import argparse\n",
        "import scipy.sparse as sp\n",
        "import pickle\n",
        "import warnings\n",
        "warnings.filterwarnings(\"ignore\")"
      ],
      "metadata": {
        "id": "9UVG4WW71Q4F"
      },
      "execution_count": 198,
      "outputs": []
    },
    {
      "cell_type": "code",
      "source": [
        "def identity(x):\n",
        "    \"\"\"Dummy function that just returns the input\"\"\"\n",
        "    return x\n",
        "\n",
        "\n",
        "def write_to_file(labels, output_file):\n",
        "    '''Write list to file'''\n",
        "    with open(output_file, \"w\") as out_f:\n",
        "        for line in labels:\n",
        "            out_f.write(line.strip() + '\\n')\n",
        "    out_f.close()\n",
        "\n",
        "\n",
        "def tokenizer(tweet):\n",
        "    doc = nlp(tweet)\n",
        "    tokens = [word.text for word in doc]\n",
        "    return tokens\n",
        "\n",
        "\n",
        "def get_score(classifier, X_test, Y_test, output_file):\n",
        "    # Given a trained model, predict the label of a new set of data.\n",
        "    Y_pred = classifier.predict(X_test)\n",
        "    # Calculates the accuracy score of the trained model by comparing predicted labels with actual labels.\n",
        "    acc = accuracy_score(Y_test, Y_pred)\n",
        "    output_file = True\n",
        "    if output_file:\n",
        "        write_to_file(Y_pred, output_file)\n",
        "    print(classification_report(Y_test, Y_pred))\n",
        "\n",
        "    return acc\n",
        "\n",
        "\n",
        "def base_model(vec, X_train, Y_train):\n",
        "    print(\"Navie Bayes Classification\")\n",
        "    model = MultinomialNB()\n",
        "\n",
        "    classifier = Pipeline([('vec', vec), ('cls', model)])\n",
        "    classifier.fit(X_train, Y_train)\n",
        "\n",
        "    return classifier\n",
        "\n",
        "\n",
        "def optimize_rf(vec, X_train, Y_train, seed):\n",
        "    print(\"Random Forest Classification\")\n",
        "    model = RandomForestClassifier(criterion='gini', n_estimators=233, max_depth=10, max_features=0.064,\n",
        "                                   random_state=seed)\n",
        "\n",
        "    classifier = Pipeline([('vec', vec), ('cls', model)])\n",
        "    classifier.fit(X_train, Y_train)\n",
        "\n",
        "    return classifier\n",
        "\n",
        "\n",
        "def optimize_knn(vec, X_train, Y_train):\n",
        "    print(\"KNN Classification\")\n",
        "    model = KNeighborsClassifier(n_neighbors=118, weights='uniform', n_jobs=-1)\n",
        "\n",
        "    classifier = Pipeline([('vec', vec), ('cls', model)])\n",
        "    classifier.fit(X_train, Y_train)\n",
        "\n",
        "    return classifier\n",
        "\n",
        "\n",
        "def optimize_dt(vec, X_train, Y_train):\n",
        "    print(\"Decision Tree Classification\")\n",
        "    model = DecisionTreeClassifier(\n",
        "        splitter='best',\n",
        "        max_depth=14,\n",
        "        max_features=0.81,\n",
        "        criterion='entropy',\n",
        "        random_state=0\n",
        "    )\n",
        "\n",
        "    classifier = Pipeline([('vec', vec), ('cls', model)])\n",
        "    classifier.fit(X_train, Y_train)\n",
        "\n",
        "    return classifier\n",
        "\n",
        "\n",
        "def optimize_svm(vec, X_train, Y_train, seed):\n",
        "    print(\"SVM classification\")\n",
        "    if vec is None:\n",
        "        svm_ = svm.SVC(kernel='linear', C=1.14, random_state=seed)\n",
        "    else:\n",
        "        svm_ = Pipeline([('vec', vec), ('cls', svm.SVC(kernel='linear', C=1.14, random_state=seed))])\n",
        "\n",
        "    svm_.fit(X_train, Y_train)\n",
        "\n",
        "    return svm_\n",
        "\n",
        "\n",
        "def custom_feature(row):\n",
        "    dic = {}\n",
        "    dic['org_count'] = row['org_count']\n",
        "    dic['sentence_count'] = row['sentence_count']\n",
        "    dic['gpe_count'] = row['gpe_count']\n",
        "    return dic\n",
        "\n",
        "\n",
        "def ensemble(vec, X_train, Y_train, seed):\n",
        "    print(\"Ensemble of Naive Bayes, Random Forest and SVM\")\n",
        "\n",
        "    nb = Pipeline([('vec_cn', vec), ('cls', MultinomialNB())])\n",
        "    rf = Pipeline([('vec_tf', vec), ('cls', RandomForestClassifier(criterion='gini', n_estimators=233, max_depth=10,\n",
        "                                                                   max_features=0.064, n_jobs=-1, random_state=seed))])\n",
        "    svm_ = Pipeline([('vec_tf', vec), ('cls', svm.SVC(kernel='linear', C=1.14, random_state=seed))])\n",
        "\n",
        "    estimators = [('nb', nb), ('rf', rf), ('svm', svm_)]\n",
        "\n",
        "    ensemble_classifier = VotingClassifier(estimators, voting='hard')\n",
        "    classifier = ensemble_classifier.fit(X_train, Y_train)\n",
        "\n",
        "    return classifier"
      ],
      "metadata": {
        "id": "okforpVI1W47"
      },
      "execution_count": 199,
      "outputs": []
    },
    {
      "cell_type": "code",
      "source": [
        "if __name__ == \"__main__\":\n",
        "\n",
        "    \"\"\" Below code refactored for the format python LFD_assignment2.py -i <trainset> -ts <testset>.\n",
        "        Normally, it is used with split_data function to experiment with different classifiers. \"\"\"\n",
        "\n",
        "    train = pd.read_csv('/content/gdrive/MyDrive/Data/preprocessed data/processed_train.csv')\n",
        "    val= pd.read_csv('/content/gdrive/MyDrive/Data/preprocessed data/processed_val.csv')\n",
        "    X_train, Y_train = train['preprocessed'], train['task']\n",
        "\n",
        "    X_dev, Y_dev = val['preprocessed'], val['task']\n",
        "\n",
        "    tfidf = False\n",
        "    if tfidf:\n",
        "        vec = TfidfVectorizer(preprocessor=identity, tokenizer=tokenizer)\n",
        "    else:\n",
        "        # Bag of Words vectorizer\n",
        "        vec = CountVectorizer(preprocessor=identity, tokenizer=tokenizer)\n",
        "\n",
        "    # Combine the vectorizer with a Naive Bayes classifier\n",
        "    # Of course you have to experiment with different classifiers\n",
        "    # You can all find them through the sklearn library\n",
        "    # classifier = base_model(vec, X_train, Y_train)  # Naive Bayes\n",
        "    # classifier = optimize_knn(vec, X_train, Y_train)\n",
        "    # classifier = optimize_dt(vec, X_train, Y_train)\n",
        "    # classifier = ensemble(vec, X_train, Y_train,0)\n",
        "    classifier = optimize_svm(vec, X_train, Y_train, 32) #SVM\n",
        "    Y_pred = classifier.predict(X_dev)\n",
        "    acc = accuracy_score(Y_dev, Y_pred)\n",
        "    print(f\"Final accuracy: {acc}\")\n",
        "    print(classification_report(Y_dev, Y_pred))\n",
        "   "
      ],
      "metadata": {
        "colab": {
          "base_uri": "https://localhost:8080/"
        },
        "id": "5JnzkA1d1vbh",
        "outputId": "da69664a-f869-41a3-ee47-66bce6f1d178"
      },
      "execution_count": 202,
      "outputs": [
        {
          "output_type": "stream",
          "name": "stdout",
          "text": [
            "SVM classification\n",
            "Final accuracy: 0.6916916916916916\n",
            "              precision    recall  f1-score   support\n",
            "\n",
            "         NOT       0.79      0.72      0.75       647\n",
            "         OFF       0.55      0.64      0.60       352\n",
            "\n",
            "    accuracy                           0.69       999\n",
            "   macro avg       0.67      0.68      0.67       999\n",
            "weighted avg       0.71      0.69      0.70       999\n",
            "\n"
          ]
        }
      ]
    }
  ]
}